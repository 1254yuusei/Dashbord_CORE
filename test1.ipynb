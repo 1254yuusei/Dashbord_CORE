{
 "cells": [
  {
   "cell_type": "code",
   "execution_count": 1,
   "metadata": {},
   "outputs": [
    {
     "name": "stdout",
     "output_type": "stream",
     "text": [
      "              period_id  is_longest  timezone   bedtime_end_dt_adjusted  \\\n",
      "summary_date                                                              \n",
      "2022-11-16            0           1       540 2022-11-17 09:21:55+09:00   \n",
      "\n",
      "             bedtime_start_dt_adjusted        type  breath_average  \\\n",
      "summary_date                                                         \n",
      "2022-11-16   2022-11-17 00:41:55+09:00  long_sleep          13.375   \n",
      "\n",
      "              average_breath_variation  duration_in_hrs  total_in_hrs  ...  \\\n",
      "summary_date                                                           ...   \n",
      "2022-11-16                       2.875         8.666667           7.9  ...   \n",
      "\n",
      "              score_efficiency  score_latency  score_rem  score_total  \\\n",
      "summary_date                                                            \n",
      "2022-11-16                  96             78         62           82   \n",
      "\n",
      "              temperature_deviation  temperature_trend_deviation  \\\n",
      "summary_date                                                       \n",
      "2022-11-16                     0.36                         0.28   \n",
      "\n",
      "              bedtime_start_delta  bedtime_end_delta  midpoint_at_delta  \\\n",
      "summary_date                                                              \n",
      "2022-11-16                   2515              33715              17995   \n",
      "\n",
      "              temperature_delta  \n",
      "summary_date                     \n",
      "2022-11-16                 0.36  \n",
      "\n",
      "[1 rows x 41 columns]\n"
     ]
    }
   ],
   "source": [
    "import pandas as pd\n",
    "import oura\n",
    "import plotly.graph_objects as go\n",
    "\n",
    "access_token=\"QVRKWLEC4P6F7OICXAPUDX5WIVRHANEV\"\n",
    "\n",
    "client = oura.client_pandas.OuraClientDataFrame(personal_access_token=access_token)\n",
    "\n",
    "#期間を指定（全期間が欲しい場合はこのままでOKです。）\n",
    "start_text=\"2022-11-16\"\n",
    "end_text=\"2022-11-17\"\n",
    "\n",
    "#上からそれぞれ、Sleepデータ、Activityデータ、Readinessデータをdataframeに格納しています。\n",
    "data_sleep_df=client.sleep_df(start=start_text, end=end_text)\n",
    "\n",
    "#3つのdataframeを結合\n",
    "df_all=pd.concat([data_sleep_df], axis=1)\n",
    "\n",
    "print(df_all)"
   ]
  },
  {
   "cell_type": "code",
   "execution_count": 9,
   "metadata": {},
   "outputs": [
    {
     "name": "stdout",
     "output_type": "stream",
     "text": [
      "2022-12-16\n",
      "2022-12-15\n"
     ]
    }
   ],
   "source": [
    "import datetime\n",
    "now = datetime.datetime.now()\n",
    "dt_now = now.strftime('%Y-%m-%d')\n",
    "yd = now - datetime.timedelta(days=1)\n",
    "dt_yd = yd.strftime('%Y-%m-%d')\n",
    "\n",
    "\n",
    "print(dt_now)\n",
    "print(dt_yd)"
   ]
  },
  {
   "cell_type": "code",
   "execution_count": 14,
   "metadata": {},
   "outputs": [
    {
     "name": "stdout",
     "output_type": "stream",
     "text": [
      "0            NaN\n",
      "1            NaN\n",
      "2            NaN\n",
      "3            NaN\n",
      "4            NaN\n",
      "          ...   \n",
      "1435    0.010811\n",
      "1436    0.010541\n",
      "1437    0.010541\n",
      "1438    0.010270\n",
      "1439    0.010000\n",
      "Name: CoreBodyTemp [C], Length: 1440, dtype: float64\n"
     ]
    }
   ],
   "source": [
    "import pandas as pd\n",
    "#COREのデータ取得\n",
    "df = pd.read_csv('data/CORE_data.csv', sep = ';', header = 1,)\n",
    "data = pd.to_datetime(df.iloc[:,0])\n",
    "y = df.iloc[:,1]\n",
    "plot_data = pd.DataFrame(data)\n",
    "plot_data['Temp'] = y\n",
    "\n",
    "# CORE温度差判定\n",
    "\n",
    "tcr = y.pct_change(60,axis=0)\n",
    "print(tcr)\n",
    "# print(df)"
   ]
  },
  {
   "cell_type": "code",
   "execution_count": 2,
   "metadata": {},
   "outputs": [
    {
     "data": {
      "text/plain": [
       "2"
      ]
     },
     "execution_count": 2,
     "metadata": {},
     "output_type": "execute_result"
    }
   ],
   "source": [
    "1+1"
   ]
  },
  {
   "cell_type": "code",
   "execution_count": 3,
   "metadata": {},
   "outputs": [
    {
     "data": {
      "text/plain": [
       "2.0"
      ]
     },
     "execution_count": 3,
     "metadata": {},
     "output_type": "execute_result"
    }
   ],
   "source": [
    "4/2"
   ]
  },
  {
   "cell_type": "code",
   "execution_count": 4,
   "metadata": {},
   "outputs": [],
   "source": [
    "import numpy as np"
   ]
  },
  {
   "cell_type": "code",
   "execution_count": 1,
   "metadata": {},
   "outputs": [
    {
     "name": "stderr",
     "output_type": "stream",
     "text": [
      "2022-12-06 17:59:05.486 \n",
      "  \u001b[33m\u001b[1mWarning:\u001b[0m to view this Streamlit app on a browser, run it with the following\n",
      "  command:\n",
      "\n",
      "    streamlit run /Users/oohashiyuusei/Documents/Streamlit/env/lib/python3.10/site-packages/ipykernel_launcher.py [ARGUMENTS]\n"
     ]
    },
    {
     "data": {
      "text/plain": [
       "DeltaGenerator(_root_container=0, _provided_cursor=None, _parent=None, _block_type=None, _form_data=None)"
      ]
     },
     "execution_count": 1,
     "metadata": {},
     "output_type": "execute_result"
    }
   ],
   "source": [
    "import streamlit as st\n",
    "import numpy as np\n",
    "\n",
    "# streamlitのメソッドでmarkdown形式で表示\n",
    "st.write(\n",
    "    \"\"\"\n",
    "    # My first app\n",
    "    Hello *world!*\n",
    "    \"\"\"\n",
    "    )\n",
    "\n",
    "# 適当なデータ作成\n",
    "data = np.arange(0, 10, 0.1)\n",
    "\n",
    "# streamlitのメソッドでデータを直線グラフに\n",
    "st.line_chart(data)"
   ]
  }
 ],
 "metadata": {
  "kernelspec": {
   "display_name": "Python 3",
   "language": "python",
   "name": "python3"
  },
  "language_info": {
   "codemirror_mode": {
    "name": "ipython",
    "version": 3
   },
   "file_extension": ".py",
   "mimetype": "text/x-python",
   "name": "python",
   "nbconvert_exporter": "python",
   "pygments_lexer": "ipython3",
   "version": "3.10.8"
  },
  "orig_nbformat": 4,
  "vscode": {
   "interpreter": {
    "hash": "aee8b7b246df8f9039afb4144a1f6fd8d2ca17a180786b69acc140d282b71a49"
   }
  }
 },
 "nbformat": 4,
 "nbformat_minor": 2
}
