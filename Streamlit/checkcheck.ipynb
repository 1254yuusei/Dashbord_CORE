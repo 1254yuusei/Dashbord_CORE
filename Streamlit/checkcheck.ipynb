{
 "cells": [
  {
   "cell_type": "code",
   "execution_count": 1,
   "metadata": {},
   "outputs": [],
   "source": [
    "import pandas as pd"
   ]
  },
  {
   "cell_type": "code",
   "execution_count": 7,
   "metadata": {},
   "outputs": [
    {
     "name": "stdout",
     "output_type": "stream",
     "text": [
      "DateTime   2022-11-17 00:00:24\n",
      "Name: 0, dtype: datetime64[ns]\n",
      "DateTime    17.11.2022 00:00:24\n",
      "Name: 0, dtype: object\n"
     ]
    }
   ],
   "source": [
    "df = pd.read_csv('data/CORE_TEMP_1117.csv', sep = ';', header = 1,)\n",
    "# df_CORE = df.iloc[:,[1]]\n",
    "# date_CORE = df.iloc[:,[0]]\n",
    "# data_core = df.iloc[0:50,[0,1]]\n",
    "# data = pd.to_datetime(df.iloc[0:50,[1]])\n",
    "# data.y = df.iloc[0:50,[2]]\n",
    "\n",
    "# print(date_CORE[0].dtypes)\n",
    "# print(pd.to_datetime(df.DateTime)[0])\n",
    "print(pd.to_datetime(df.iloc[0,[0]]))\n",
    "print(df.iloc[0,[0]])\n",
    "# print(pd.to_datetime(df.DateTime[0]))"
   ]
  },
  {
   "cell_type": "code",
   "execution_count": null,
   "metadata": {},
   "outputs": [],
   "source": []
  }
 ],
 "metadata": {
  "kernelspec": {
   "display_name": "env",
   "language": "python",
   "name": "python3"
  },
  "language_info": {
   "codemirror_mode": {
    "name": "ipython",
    "version": 3
   },
   "file_extension": ".py",
   "mimetype": "text/x-python",
   "name": "python",
   "nbconvert_exporter": "python",
   "pygments_lexer": "ipython3",
   "version": "3.10.8"
  },
  "orig_nbformat": 4,
  "vscode": {
   "interpreter": {
    "hash": "8416883c5ac20533aaa0ef9ff95ca730e0fad4d8eb7b43101e43e506e966e59e"
   }
  }
 },
 "nbformat": 4,
 "nbformat_minor": 2
}
